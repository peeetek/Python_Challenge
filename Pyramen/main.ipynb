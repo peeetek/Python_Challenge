{
 "cells": [
  {
   "cell_type": "code",
   "execution_count": 471,
   "id": "ce16b40d-869c-40a7-b53b-f5bf76e306f3",
   "metadata": {},
   "outputs": [],
   "source": [
    "# Importing and formating CSV File \n",
    "\n",
    "from pathlib import Path\n",
    "import csv\n",
    "csvpath = Path('/Users/petertran/Fintec/Module Challenge/python_challenge/Pybank/Resources/budget_data.csv')\n",
    "with open(csvpath, 'r') as csvfile:\n",
    "    csvreader = csv.reader(csvfile, delimiter=',')\n",
    "    header = next(csvreader)"
   ]
  },
  {
   "cell_type": "code",
   "execution_count": 472,
   "id": "e826f157-4969-486d-9547-2ad009ac5a8b",
   "metadata": {},
   "outputs": [
    {
     "name": "stdout",
     "output_type": "stream",
     "text": [
      "['Feb-2017', '671099']\n"
     ]
    }
   ],
   "source": [
    "print(row)"
   ]
  },
  {
   "cell_type": "code",
   "execution_count": 419,
   "id": "fbf1eb0b-d1bf-49af-9ba4-f78ada38522b",
   "metadata": {},
   "outputs": [
    {
     "ename": "SyntaxError",
     "evalue": "invalid syntax (945419897.py, line 9)",
     "output_type": "error",
     "traceback": [
      "\u001b[0;36m  File \u001b[0;32m\"/var/folders/w4/lsgx7ykn35x5549kp8vwtzcr0000gn/T/ipykernel_12738/945419897.py\"\u001b[0;36m, line \u001b[0;32m9\u001b[0m\n\u001b[0;31m    current_month_total =  int(proftloss - 1))\u001b[0m\n\u001b[0m                                             ^\u001b[0m\n\u001b[0;31mSyntaxError\u001b[0m\u001b[0;31m:\u001b[0m invalid syntax\n"
     ]
    }
   ],
   "source": [
    "max_month = []\n",
    "min_month = []\n",
    "pl_total = 0\n",
    "count_total = 0\n",
    "change_total = 0\n",
    "prev_change = 0\n",
    "avg_change = 0\n",
    "month_change = []\n",
    "\n",
    "prev_month_total = current_month_total \n",
    "current_month_total =  int(proftloss - 1))\n",
    "increase = [\"\",999999999]\n",
    "decrease = [\"\",0]\n",
    "increase_date = []\n",
    "decrease_date = []\n",
    "\n",
    "for profitloss in profit_loss:\n",
    "    #The total number of months inlcuded in dataset\n",
    "    count_total += 1\n",
    "    #the net total amount of profit/losses over the entire period\n",
    "    pl_total += profitloss\n",
    "    #The greatest increase in profits (date and amount) over the entire period.\n",
    "    if \n",
    "    "
   ]
  },
  {
   "cell_type": "code",
   "execution_count": 439,
   "id": "fb9884a4-d2b3-42f4-ad73-d5b47ece4fc6",
   "metadata": {},
   "outputs": [],
   "source": [
    "from pathlib import Path\n",
    "import csv\n",
    "csvpath = Path('/Users/petertran/Fintec/Module Challenge/python_challenge/Pybank/Resources/budget_data.csv')\n",
    "with open(csvpath, 'r') as csvfile:\n",
    "    csvreader = csv.reader(csvfile, delimiter=',')\n",
    "    header = next(csvreader)\n",
    "    line_num = 0\n",
    "    for row in csvreader:\n",
    "        date = str(row[0])\n",
    "        profitloss = (row[1])\n",
    "        profit_loss.append(profitloss)"
   ]
  },
  {
   "cell_type": "code",
   "execution_count": 442,
   "id": "63cad5d4-dd38-4445-bfc2-12673ae4dc3f",
   "metadata": {},
   "outputs": [
    {
     "name": "stdout",
     "output_type": "stream",
     "text": [
      "671099\n"
     ]
    }
   ],
   "source": [
    "print(row[1])"
   ]
  },
  {
   "cell_type": "code",
   "execution_count": 438,
   "id": "9c9e1e7e-f808-4f64-9889-288a73aa2ff8",
   "metadata": {},
   "outputs": [
    {
     "name": "stdout",
     "output_type": "stream",
     "text": [
      "172 671099\n"
     ]
    }
   ],
   "source": [
    "pl_total = 0\n",
    "count_total = 0\n",
    "change_total = 0\n",
    "prev_change = 0\n",
    "avg_change = 0\n",
    "month_change = []\n",
    "increase = [\"\",999999999]\n",
    "decrease = [\"\",0]\n",
    "\n",
    "for profitloss in profit_loss:\n",
    "    #The total number of months inlcuded in dataset\n",
    "    count_total += 1\n",
    "    #the net total amount of profit/losses over the entire period\n",
    "    pl_total = profitloss\n",
    "    #The greatest increase in profits (date and amount) over the entire period.\n",
    "\n",
    "print(count_total,pl_total)\n"
   ]
  },
  {
   "cell_type": "code",
   "execution_count": null,
   "id": "2ba76faf-32f4-4004-9f86-f0e0a44228be",
   "metadata": {},
   "outputs": [],
   "source": [
    "profit_loss = []\n",
    "month_year = []\n",
    "line_num = 0"
   ]
  },
  {
   "cell_type": "code",
   "execution_count": 396,
   "id": "153e44b4-66ea-4881-8006-de240ccbe38f",
   "metadata": {},
   "outputs": [
    {
     "name": "stdout",
     "output_type": "stream",
     "text": [
      "1\n"
     ]
    }
   ],
   "source": [
    " for i in range(len(total_profit)-1):\n",
    "         monthly_profit_change.append(pl_total[i+1]-pl_total[i]"
   ]
  },
  {
   "cell_type": "code",
   "execution_count": 383,
   "id": "bf5c9cc8-eff1-4b72-a821-e144c07be936",
   "metadata": {
    "tags": []
   },
   "outputs": [
    {
     "name": "stdout",
     "output_type": "stream",
     "text": [
      "['Date', 'Profit/Losses']\n"
     ]
    },
    {
     "ename": "TypeError",
     "evalue": "'int' object is not iterable",
     "output_type": "error",
     "traceback": [
      "\u001b[0;31m---------------------------------------------------------------------------\u001b[0m",
      "\u001b[0;31mTypeError\u001b[0m                                 Traceback (most recent call last)",
      "\u001b[0;32m/var/folders/w4/lsgx7ykn35x5549kp8vwtzcr0000gn/T/ipykernel_12738/74707477.py\u001b[0m in \u001b[0;36m<module>\u001b[0;34m\u001b[0m\n\u001b[1;32m     11\u001b[0m \u001b[0;31m#The total number of months included in the dataset.\u001b[0m\u001b[0;34m\u001b[0m\u001b[0;34m\u001b[0m\u001b[0;34m\u001b[0m\u001b[0m\n\u001b[1;32m     12\u001b[0m \u001b[0;34m\u001b[0m\u001b[0m\n\u001b[0;32m---> 13\u001b[0;31m \u001b[0;32mfor\u001b[0m \u001b[0mprofitandloss\u001b[0m \u001b[0;32min\u001b[0m \u001b[0mprofitloss\u001b[0m\u001b[0;34m:\u001b[0m\u001b[0;34m\u001b[0m\u001b[0;34m\u001b[0m\u001b[0m\n\u001b[0m\u001b[1;32m     14\u001b[0m     \u001b[0mmonth_total\u001b[0m \u001b[0;34m+=\u001b[0m \u001b[0mprofitloss\u001b[0m\u001b[0;34m\u001b[0m\u001b[0;34m\u001b[0m\u001b[0m\n\u001b[1;32m     15\u001b[0m \u001b[0;34m\u001b[0m\u001b[0m\n",
      "\u001b[0;31mTypeError\u001b[0m: 'int' object is not iterable"
     ]
    }
   ],
   "source": [
    "print(f\"{header}\")\n",
    "\n",
    "\n",
    "#Financial Analysis\n",
    "month_total = 0\n",
    "net_total = 0\n",
    "avg_total = 0\n",
    "max_total = 0\n",
    "min_total = 0\n",
    "\n",
    "#The total number of months included in the dataset.\n",
    "\n",
    "for profitandloss in profitloss:\n",
    "    month_total += profitloss \n",
    "    \n",
    "    profitloss = print(row[1])\n",
    "    profitloss.append(profitloss)\n",
    "\n",
    "#Financial Analysis\n",
    "\n",
    "month_total = 0\n",
    "net_total = 0\n",
    "avg_total = 0\n",
    "max_total = 0\n",
    "min_total = 0\n",
    "\n",
    "#The total number of months included in the dataset.\n",
    "\n",
    "for profitandloss in profitloss:\n",
    "    month_total += 1\n",
    "\n",
    "\n",
    "#The net total amount of Profit/Losses over the entire period.\n",
    "\n",
    "#The average of the changes in Profit/Losses over the entire period.\n",
    "\n",
    "#The greatest increase in profits (date and amount) over the entire period.\n",
    "\n",
    "#The greatest decrease in losses (date and amount) over the entire period.\n",
    "\n",
    "#Your resulting analysis should look similar to the following:"
   ]
  },
  {
   "cell_type": "code",
   "execution_count": 384,
   "id": "d68c5a47-e674-49ad-b0af-e27d6825eb94",
   "metadata": {},
   "outputs": [
    {
     "name": "stdout",
     "output_type": "stream",
     "text": [
      "['Date', 'Profit/Losses']\n"
     ]
    }
   ],
   "source": [
    "\n"
   ]
  },
  {
   "cell_type": "code",
   "execution_count": null,
   "id": "7a7e00c0-e8db-4cfb-b429-d33ce0b19db9",
   "metadata": {},
   "outputs": [],
   "source": []
  }
 ],
 "metadata": {
  "kernelspec": {
   "display_name": "Python 3 (ipykernel)",
   "language": "python",
   "name": "python3"
  },
  "language_info": {
   "codemirror_mode": {
    "name": "ipython",
    "version": 3
   },
   "file_extension": ".py",
   "mimetype": "text/x-python",
   "name": "python",
   "nbconvert_exporter": "python",
   "pygments_lexer": "ipython3",
   "version": "3.7.13"
  }
 },
 "nbformat": 4,
 "nbformat_minor": 5
}
