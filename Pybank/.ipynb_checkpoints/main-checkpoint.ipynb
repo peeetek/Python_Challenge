{
 "cells": [
  {
   "cell_type": "code",
   "execution_count": 2,
   "id": "749250d8-db2d-4576-8bd1-51ade79b9733",
   "metadata": {},
   "outputs": [
    {
     "name": "stdout",
     "output_type": "stream",
     "text": [
      "Financial Analysis\n",
      "----------------------------\n",
      "Total Months: 86\n",
      "Total: $38382578\n",
      "Average  Change: $-2315.12\n",
      "Greatest Increase in Profits: Feb-2012 ($1926159)\n",
      "Greatest Decrease in Profits: Sep-2013 ($-2196167)\n"
     ]
    }
   ],
   "source": [
    "# Importing  SV File \n",
    "from pathlib import Path\n",
    "import csv\n",
    "csvpath = Path('../Pybank/Resources/budget_data.csv')\n",
    "\n",
    "#creating list\n",
    "profit_loss = []\n",
    "month_on_month = []\n",
    "month_year = []\n",
    "\n",
    "#open input parth as file object\n",
    "with open(csvpath, 'r') as csvfile:\n",
    "    csvreader = csv.reader(csvfile, delimiter=',')\n",
    "    header = next(csvreader)\n",
    "    #appending data from CSV to corresponding list\n",
    "    for row in csvreader:\n",
    "        profit_loss.append(int(row[1]))\n",
    "        month_year.append(row[0])\n",
    "        \n",
    "        #interating data to calculate month on month difference and appending to list\n",
    "    for x in range(len(profit_loss)-1):\n",
    "        diff = (profit_loss[x+1]) - (profit_loss[x])\n",
    "        month_on_month.append(diff)\n",
    "    \n",
    "          \n",
    "#function to count length of list to caclulate total months\n",
    "total_months = len(month_year)\n",
    "\n",
    "#function to calculate sum of list of profit_loss\n",
    "net_total = sum(profit_loss)\n",
    "\n",
    "#function to caculate number of periods of change from profit_loss list\n",
    "month_on_month_periods = (len(profit_loss)-1) \n",
    "\n",
    "#function to caculate average changes in profit and loss\n",
    "avg_changes = round(sum(month_on_month) / month_on_month_periods,2)\n",
    "\n",
    "#function to find max/min value in list month_on_month\n",
    "increase_amount = max(month_on_month) \n",
    "decrease_amount = min(month_on_month)\n",
    "#fucntion to pull corresponding month from month_year list which corrolates to value calcualted in max/min value, \n",
    "#+1 added to skip to next month on month_on_month list  \n",
    "increase_month = month_year[month_on_month.index(increase_amount)+1]\n",
    "decrease_month = month_year[month_on_month.index(decrease_amount)+1]\n",
    "\n",
    "#print statement\n",
    "print(\"Financial Analysis\")\n",
    "print(\"----------------------------\")\n",
    "print(f\"Total Months: {total_months}\")\n",
    "print(f\"Total: ${net_total}\")\n",
    "print(f\"Average  Change: ${avg_changes}\")\n",
    "print(f\"Greatest Increase in Profits: {increase_month} (${increase_amount})\")\n",
    "print(f\"Greatest Decrease in Profits: {decrease_month} (${decrease_amount})\")\n",
    "\n",
    "#output file\n",
    "output_path = Path(\"output.txt\")\n",
    "\n",
    "with open(output_path, 'w') as file:\n",
    "    file.write(f\"Financial Analysis\\n\")\n",
    "    file.write(f\"----------------------------\\n\")\n",
    "    file.write(f\"Total Months: {total_months}\\n\")\n",
    "    file.write(f\"Total: ${net_total}\\n\")\n",
    "    file.write(f\"Average  Change: ${avg_changes}\\n\")\n",
    "    file.write(f\"Greatest Increase in Profits: {increase_month} (${increase_amount})\\n\")\n",
    "    file.write(f\"Greatest Decrease in Profits: {decrease_month} (${decrease_amount})\\n\")\n",
    "    \n"
   ]
  },
  {
   "cell_type": "code",
   "execution_count": null,
   "id": "dfd9eb64-b50e-444b-a06f-0ad4331ad027",
   "metadata": {},
   "outputs": [],
   "source": []
  }
 ],
 "metadata": {
  "kernelspec": {
   "display_name": "Python 3 (ipykernel)",
   "language": "python",
   "name": "python3"
  },
  "language_info": {
   "codemirror_mode": {
    "name": "ipython",
    "version": 3
   },
   "file_extension": ".py",
   "mimetype": "text/x-python",
   "name": "python",
   "nbconvert_exporter": "python",
   "pygments_lexer": "ipython3",
   "version": "3.7.13"
  }
 },
 "nbformat": 4,
 "nbformat_minor": 5
}
